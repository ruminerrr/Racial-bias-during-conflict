{
 "cells": [
  {
   "cell_type": "code",
   "execution_count": 20,
   "id": "3e39c128",
   "metadata": {},
   "outputs": [],
   "source": [
    "import os\n",
    "import pandas as pd\n",
    "import hddm\n",
    "import matplotlib.pyplot as plt\n",
    "import seaborn as sns"
   ]
  },
  {
   "cell_type": "code",
   "execution_count": 21,
   "id": "82484aab",
   "metadata": {},
   "outputs": [],
   "source": [
    "# Load data\n",
    "data = hddm.load_csv('eeg_ddm.csv')\n",
    "data.rt = data.rt/1000\n",
    "data.response = 1-data.response\n",
    "data = hddm.utils.flip_errors(data)"
   ]
  },
  {
   "cell_type": "code",
   "execution_count": 22,
   "id": "3a213916",
   "metadata": {},
   "outputs": [
    {
     "data": {
      "text/html": [
       "<div>\n",
       "<style scoped>\n",
       "    .dataframe tbody tr th:only-of-type {\n",
       "        vertical-align: middle;\n",
       "    }\n",
       "\n",
       "    .dataframe tbody tr th {\n",
       "        vertical-align: top;\n",
       "    }\n",
       "\n",
       "    .dataframe thead th {\n",
       "        text-align: right;\n",
       "    }\n",
       "</style>\n",
       "<table border=\"1\" class=\"dataframe\">\n",
       "  <thead>\n",
       "    <tr style=\"text-align: right;\">\n",
       "      <th></th>\n",
       "      <th>subj_idx</th>\n",
       "      <th>outSold</th>\n",
       "      <th>stim</th>\n",
       "      <th>stimulus</th>\n",
       "      <th>type</th>\n",
       "      <th>response</th>\n",
       "      <th>rt</th>\n",
       "      <th>gender</th>\n",
       "      <th>race</th>\n",
       "    </tr>\n",
       "  </thead>\n",
       "  <tbody>\n",
       "    <tr>\n",
       "      <th>0</th>\n",
       "      <td>15</td>\n",
       "      <td>0</td>\n",
       "      <td>female</td>\n",
       "      <td>face</td>\n",
       "      <td>neutral</td>\n",
       "      <td>1</td>\n",
       "      <td>2.440</td>\n",
       "      <td>female</td>\n",
       "      <td>Asian</td>\n",
       "    </tr>\n",
       "    <tr>\n",
       "      <th>1</th>\n",
       "      <td>15</td>\n",
       "      <td>0</td>\n",
       "      <td>female</td>\n",
       "      <td>face</td>\n",
       "      <td>neutral</td>\n",
       "      <td>1</td>\n",
       "      <td>2.142</td>\n",
       "      <td>female</td>\n",
       "      <td>Asian</td>\n",
       "    </tr>\n",
       "    <tr>\n",
       "      <th>2</th>\n",
       "      <td>15</td>\n",
       "      <td>0</td>\n",
       "      <td>female</td>\n",
       "      <td>face</td>\n",
       "      <td>neutral</td>\n",
       "      <td>1</td>\n",
       "      <td>2.435</td>\n",
       "      <td>female</td>\n",
       "      <td>Asian</td>\n",
       "    </tr>\n",
       "    <tr>\n",
       "      <th>3</th>\n",
       "      <td>15</td>\n",
       "      <td>0</td>\n",
       "      <td>female</td>\n",
       "      <td>face</td>\n",
       "      <td>neutral</td>\n",
       "      <td>1</td>\n",
       "      <td>2.341</td>\n",
       "      <td>female</td>\n",
       "      <td>Asian</td>\n",
       "    </tr>\n",
       "    <tr>\n",
       "      <th>4</th>\n",
       "      <td>15</td>\n",
       "      <td>0</td>\n",
       "      <td>male</td>\n",
       "      <td>face</td>\n",
       "      <td>neutral</td>\n",
       "      <td>1</td>\n",
       "      <td>2.037</td>\n",
       "      <td>female</td>\n",
       "      <td>Asian</td>\n",
       "    </tr>\n",
       "    <tr>\n",
       "      <th>...</th>\n",
       "      <td>...</td>\n",
       "      <td>...</td>\n",
       "      <td>...</td>\n",
       "      <td>...</td>\n",
       "      <td>...</td>\n",
       "      <td>...</td>\n",
       "      <td>...</td>\n",
       "      <td>...</td>\n",
       "      <td>...</td>\n",
       "    </tr>\n",
       "    <tr>\n",
       "      <th>15144</th>\n",
       "      <td>95</td>\n",
       "      <td>1</td>\n",
       "      <td>tree</td>\n",
       "      <td>tree</td>\n",
       "      <td>tree</td>\n",
       "      <td>0</td>\n",
       "      <td>-1.858</td>\n",
       "      <td>female</td>\n",
       "      <td>Caucasian</td>\n",
       "    </tr>\n",
       "    <tr>\n",
       "      <th>15145</th>\n",
       "      <td>95</td>\n",
       "      <td>1</td>\n",
       "      <td>tree</td>\n",
       "      <td>tree</td>\n",
       "      <td>tree</td>\n",
       "      <td>0</td>\n",
       "      <td>-1.858</td>\n",
       "      <td>female</td>\n",
       "      <td>Caucasian</td>\n",
       "    </tr>\n",
       "    <tr>\n",
       "      <th>15146</th>\n",
       "      <td>95</td>\n",
       "      <td>1</td>\n",
       "      <td>tree</td>\n",
       "      <td>tree</td>\n",
       "      <td>tree</td>\n",
       "      <td>0</td>\n",
       "      <td>-2.457</td>\n",
       "      <td>female</td>\n",
       "      <td>Caucasian</td>\n",
       "    </tr>\n",
       "    <tr>\n",
       "      <th>15147</th>\n",
       "      <td>95</td>\n",
       "      <td>1</td>\n",
       "      <td>tree</td>\n",
       "      <td>tree</td>\n",
       "      <td>tree</td>\n",
       "      <td>0</td>\n",
       "      <td>-1.842</td>\n",
       "      <td>female</td>\n",
       "      <td>Caucasian</td>\n",
       "    </tr>\n",
       "    <tr>\n",
       "      <th>15148</th>\n",
       "      <td>95</td>\n",
       "      <td>1</td>\n",
       "      <td>tree</td>\n",
       "      <td>tree</td>\n",
       "      <td>tree</td>\n",
       "      <td>0</td>\n",
       "      <td>-2.160</td>\n",
       "      <td>female</td>\n",
       "      <td>Caucasian</td>\n",
       "    </tr>\n",
       "  </tbody>\n",
       "</table>\n",
       "<p>15149 rows × 9 columns</p>\n",
       "</div>"
      ],
      "text/plain": [
       "       subj_idx  outSold    stim stimulus     type  response     rt  gender  \\\n",
       "0            15        0  female     face  neutral         1  2.440  female   \n",
       "1            15        0  female     face  neutral         1  2.142  female   \n",
       "2            15        0  female     face  neutral         1  2.435  female   \n",
       "3            15        0  female     face  neutral         1  2.341  female   \n",
       "4            15        0    male     face  neutral         1  2.037  female   \n",
       "...         ...      ...     ...      ...      ...       ...    ...     ...   \n",
       "15144        95        1    tree     tree     tree         0 -1.858  female   \n",
       "15145        95        1    tree     tree     tree         0 -1.858  female   \n",
       "15146        95        1    tree     tree     tree         0 -2.457  female   \n",
       "15147        95        1    tree     tree     tree         0 -1.842  female   \n",
       "15148        95        1    tree     tree     tree         0 -2.160  female   \n",
       "\n",
       "            race  \n",
       "0          Asian  \n",
       "1          Asian  \n",
       "2          Asian  \n",
       "3          Asian  \n",
       "4          Asian  \n",
       "...          ...  \n",
       "15144  Caucasian  \n",
       "15145  Caucasian  \n",
       "15146  Caucasian  \n",
       "15147  Caucasian  \n",
       "15148  Caucasian  \n",
       "\n",
       "[15149 rows x 9 columns]"
      ]
     },
     "execution_count": 22,
     "metadata": {},
     "output_type": "execute_result"
    }
   ],
   "source": [
    "data"
   ]
  },
  {
   "cell_type": "code",
   "execution_count": 23,
   "id": "53b2cccc",
   "metadata": {},
   "outputs": [
    {
     "name": "stderr",
     "output_type": "stream",
     "text": [
      "/opt/conda/lib/python3.8/site-packages/scipy/optimize/optimize.py:2215: RuntimeWarning: invalid value encountered in double_scalars\n",
      "  tmp2 = (x - v) * (fx - fw)\n"
     ]
    },
    {
     "name": "stdout",
     "output_type": "stream",
     "text": [
      " [-----------------73%-------           ] 14717 of 20000 complete in 12613.4 sec"
     ]
    },
    {
     "name": "stderr",
     "output_type": "stream",
     "text": [
      "/opt/conda/lib/python3.8/site-packages/hddm/models/base.py:658: RuntimeWarning: overflow encountered in double_scalars\n",
      "  shape = Knode(pm.Deterministic, '%s_shape' % name, eval=lambda x,y: (x**2)/(y**2),\n",
      "/opt/conda/lib/python3.8/site-packages/hddm/models/base.py:661: RuntimeWarning: overflow encountered in true_divide\n",
      "  rate = Knode(pm.Deterministic, '%s_rate' % name, eval=lambda x,y: x/(y**2),\n"
     ]
    },
    {
     "name": "stdout",
     "output_type": "stream",
     "text": [
      " [-----------------100%-----------------] 20001 of 20000 complete in 24463.2 sec"
     ]
    }
   ],
   "source": [
    "m = hddm.HDDM(data, depends_on={'v': ['type','race'], 'a': ['type','race'], 'z': ['type','race']}, bias = True, p_outlier=.05)\n",
    "m.find_starting_values()\n",
    "m.sample(20000, burn=1000, dbname='db_eeg_final_zWtihTree', db='pickle')\n",
    "m.save('model_eeg_final_zWtihTree')"
   ]
  },
  {
   "cell_type": "code",
   "execution_count": 24,
   "id": "954ebd5a",
   "metadata": {},
   "outputs": [
    {
     "data": {
      "text/plain": [
       "10057.747551532857"
      ]
     },
     "execution_count": 24,
     "metadata": {},
     "output_type": "execute_result"
    }
   ],
   "source": [
    "m.dic"
   ]
  },
  {
   "cell_type": "code",
   "execution_count": 25,
   "id": "6089631c",
   "metadata": {},
   "outputs": [],
   "source": [
    "v_asian_neutral, v_asian_pain, v_asian_tree = m.nodes_db.node[['v(Asian.neutral)', 'v(Asian.pain)','v(Asian.tree)']]\n",
    "v_caucasian_neutral, v_caucasian_pain, v_caucasian_tree = m.nodes_db.node[['v(Caucasian.neutral)', 'v(Caucasian.pain)','v(Caucasian.tree)']]\n",
    "a_asian_neutral, a_asian_pain, a_asian_tree = m.nodes_db.node[['a(Asian.neutral)', 'a(Asian.pain)','a(Asian.tree)']]\n",
    "a_caucasian_neutral, a_caucasian_pain, a_caucasian_tree = m.nodes_db.node[['a(Caucasian.neutral)', 'a(Caucasian.pain)','a(Caucasian.tree)']]"
   ]
  },
  {
   "cell_type": "code",
   "execution_count": 26,
   "id": "7e14a7a0",
   "metadata": {},
   "outputs": [
    {
     "data": {
      "text/plain": [
       "Text(0, 0.5, 'Posterior probability')"
      ]
     },
     "execution_count": 26,
     "metadata": {},
     "output_type": "execute_result"
    },
    {
     "data": {
      "image/png": "[encoded data removed]",
      "text/plain": [
       "<Figure size 432x288 with 1 Axes>"
      ]
     },
     "metadata": {
      "needs_background": "light"
     },
     "output_type": "display_data"
    }
   ],
   "source": [
    "hddm.analyze.plot_posterior_nodes([a_asian_neutral, a_caucasian_neutral],bins=20)\n",
    "plt.xlabel('boundary separation')\n",
    "plt.ylabel('Posterior probability')"
   ]
  },
  {
   "cell_type": "code",
   "execution_count": 27,
   "id": "f984e6b0",
   "metadata": {},
   "outputs": [
    {
     "data": {
      "text/plain": [
       "0.19410526315789473"
      ]
     },
     "execution_count": 27,
     "metadata": {},
     "output_type": "execute_result"
    }
   ],
   "source": [
    "(a_asian_neutral.trace()<a_caucasian_neutral.trace()).mean()"
   ]
  },
  {
   "cell_type": "code",
   "execution_count": 28,
   "id": "8623644a",
   "metadata": {},
   "outputs": [
    {
     "data": {
      "text/plain": [
       "Text(0, 0.5, 'Posterior probability')"
      ]
     },
     "execution_count": 28,
     "metadata": {},
     "output_type": "execute_result"
    },
    {
     "data": {
      "image/png": "[encoded data removed]",
      "text/plain": [
       "<Figure size 432x288 with 1 Axes>"
      ]
     },
     "metadata": {
      "needs_background": "light"
     },
     "output_type": "display_data"
    }
   ],
   "source": [
    "hddm.analyze.plot_posterior_nodes([a_asian_pain, a_caucasian_pain],bins=20)\n",
    "plt.xlabel('boundary separation')\n",
    "plt.ylabel('Posterior probability')"
   ]
  },
  {
   "cell_type": "code",
   "execution_count": 32,
   "id": "a671d103",
   "metadata": {},
   "outputs": [
    {
     "data": {
      "text/plain": [
       "0.02168421052631579"
      ]
     },
     "execution_count": 32,
     "metadata": {},
     "output_type": "execute_result"
    }
   ],
   "source": [
    "(a_asian_pain.trace()<a_caucasian_pain.trace()).mean()"
   ]
  },
  {
   "cell_type": "code",
   "execution_count": 30,
   "id": "de53cd67",
   "metadata": {},
   "outputs": [
    {
     "data": {
      "text/plain": [
       "Text(0, 0.5, 'Posterior probability')"
      ]
     },
     "execution_count": 30,
     "metadata": {},
     "output_type": "execute_result"
    },
    {
     "data": {
      "image/png": "[encoded data removed]",
      "text/plain": [
       "<Figure size 432x288 with 1 Axes>"
      ]
     },
     "metadata": {
      "needs_background": "light"
     },
     "output_type": "display_data"
    }
   ],
   "source": [
    "hddm.analyze.plot_posterior_nodes([a_asian_tree, a_caucasian_tree],bins=20)\n",
    "plt.xlabel('boundary separation')\n",
    "plt.ylabel('Posterior probability')"
   ]
  },
  {
   "cell_type": "code",
   "execution_count": 31,
   "id": "2c860927",
   "metadata": {},
   "outputs": [
    {
     "data": {
      "text/plain": [
       "0.060526315789473685"
      ]
     },
     "execution_count": 31,
     "metadata": {},
     "output_type": "execute_result"
    }
   ],
   "source": [
    "(a_asian_tree.trace()<a_caucasian_tree.trace()).mean()"
   ]
  },
  {
   "cell_type": "code",
   "execution_count": null,
   "id": "50b93456",
   "metadata": {},
   "outputs": [],
   "source": []
  }
 ],
 "metadata": {
  "kernelspec": {
   "display_name": "Python 3",
   "language": "python",
   "name": "python3"
  },
  "language_info": {
   "codemirror_mode": {
    "name": "ipython",
    "version": 3
   },
   "file_extension": ".py",
   "mimetype": "text/x-python",
   "name": "python",
   "nbconvert_exporter": "python",
   "pygments_lexer": "ipython3",
   "version": "3.8.8"
  }
 },
 "nbformat": 4,
 "nbformat_minor": 5
}
