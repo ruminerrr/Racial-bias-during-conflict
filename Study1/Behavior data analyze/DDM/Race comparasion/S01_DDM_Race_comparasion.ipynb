{
 "cells": [
  {
   "cell_type": "code",
   "execution_count": 18,
   "id": "b09612f8",
   "metadata": {},
   "outputs": [],
   "source": [
    "import os\n",
    "import pandas as pd\n",
    "import hddm\n",
    "import matplotlib.pyplot as plt\n",
    "import seaborn as sns"
   ]
  },
  {
   "cell_type": "code",
   "execution_count": 9,
   "id": "ddaf0125",
   "metadata": {},
   "outputs": [],
   "source": [
    "# Load data\n",
    "data = hddm.load_csv('ddm_combine.csv')\n",
    "data.rt = data.rt/1000\n",
    "data.response = 1-data.response\n",
    "data = hddm.utils.flip_errors(data)"
   ]
  },
  {
   "cell_type": "code",
   "execution_count": 10,
   "id": "4d84f1c4",
   "metadata": {
    "scrolled": true
   },
   "outputs": [
    {
     "data": {
      "text/html": [
       "<div>\n",
       "<style scoped>\n",
       "    .dataframe tbody tr th:only-of-type {\n",
       "        vertical-align: middle;\n",
       "    }\n",
       "\n",
       "    .dataframe tbody tr th {\n",
       "        vertical-align: top;\n",
       "    }\n",
       "\n",
       "    .dataframe thead th {\n",
       "        text-align: right;\n",
       "    }\n",
       "</style>\n",
       "<table border=\"1\" class=\"dataframe\">\n",
       "  <thead>\n",
       "    <tr style=\"text-align: right;\">\n",
       "      <th></th>\n",
       "      <th>subj_idx</th>\n",
       "      <th>race</th>\n",
       "      <th>outSold</th>\n",
       "      <th>rt</th>\n",
       "      <th>response</th>\n",
       "      <th>stim</th>\n",
       "      <th>stimulus</th>\n",
       "      <th>type</th>\n",
       "      <th>sold</th>\n",
       "      <th>subj_race</th>\n",
       "      <th>com_stim</th>\n",
       "    </tr>\n",
       "  </thead>\n",
       "  <tbody>\n",
       "    <tr>\n",
       "      <th>0</th>\n",
       "      <td>1</td>\n",
       "      <td>Asian</td>\n",
       "      <td>2</td>\n",
       "      <td>10.487</td>\n",
       "      <td>1</td>\n",
       "      <td>tree</td>\n",
       "      <td>tree</td>\n",
       "      <td>Neutral</td>\n",
       "      <td>low</td>\n",
       "      <td>same</td>\n",
       "      <td>Tree</td>\n",
       "    </tr>\n",
       "    <tr>\n",
       "      <th>1</th>\n",
       "      <td>1</td>\n",
       "      <td>Asian</td>\n",
       "      <td>9</td>\n",
       "      <td>7.559</td>\n",
       "      <td>1</td>\n",
       "      <td>male</td>\n",
       "      <td>face</td>\n",
       "      <td>Neutral</td>\n",
       "      <td>high</td>\n",
       "      <td>same</td>\n",
       "      <td>Neutral</td>\n",
       "    </tr>\n",
       "    <tr>\n",
       "      <th>2</th>\n",
       "      <td>1</td>\n",
       "      <td>Asian</td>\n",
       "      <td>4</td>\n",
       "      <td>2.918</td>\n",
       "      <td>1</td>\n",
       "      <td>tree</td>\n",
       "      <td>tree</td>\n",
       "      <td>Neutral</td>\n",
       "      <td>low</td>\n",
       "      <td>same</td>\n",
       "      <td>Tree</td>\n",
       "    </tr>\n",
       "    <tr>\n",
       "      <th>3</th>\n",
       "      <td>1</td>\n",
       "      <td>Asian</td>\n",
       "      <td>2</td>\n",
       "      <td>3.144</td>\n",
       "      <td>1</td>\n",
       "      <td>tree</td>\n",
       "      <td>tree</td>\n",
       "      <td>Neutral</td>\n",
       "      <td>low</td>\n",
       "      <td>same</td>\n",
       "      <td>Tree</td>\n",
       "    </tr>\n",
       "    <tr>\n",
       "      <th>4</th>\n",
       "      <td>1</td>\n",
       "      <td>Asian</td>\n",
       "      <td>9</td>\n",
       "      <td>3.106</td>\n",
       "      <td>1</td>\n",
       "      <td>male</td>\n",
       "      <td>face</td>\n",
       "      <td>Neutral</td>\n",
       "      <td>high</td>\n",
       "      <td>same</td>\n",
       "      <td>Neutral</td>\n",
       "    </tr>\n",
       "    <tr>\n",
       "      <th>5</th>\n",
       "      <td>1</td>\n",
       "      <td>Asian</td>\n",
       "      <td>1</td>\n",
       "      <td>1.828</td>\n",
       "      <td>1</td>\n",
       "      <td>male</td>\n",
       "      <td>face</td>\n",
       "      <td>Neutral</td>\n",
       "      <td>low</td>\n",
       "      <td>same</td>\n",
       "      <td>Neutral</td>\n",
       "    </tr>\n",
       "    <tr>\n",
       "      <th>6</th>\n",
       "      <td>1</td>\n",
       "      <td>Asian</td>\n",
       "      <td>5</td>\n",
       "      <td>-2.010</td>\n",
       "      <td>0</td>\n",
       "      <td>female</td>\n",
       "      <td>face</td>\n",
       "      <td>Neutral</td>\n",
       "      <td>low</td>\n",
       "      <td>same</td>\n",
       "      <td>Neutral</td>\n",
       "    </tr>\n",
       "    <tr>\n",
       "      <th>7</th>\n",
       "      <td>1</td>\n",
       "      <td>Asian</td>\n",
       "      <td>7</td>\n",
       "      <td>-2.824</td>\n",
       "      <td>0</td>\n",
       "      <td>female</td>\n",
       "      <td>face</td>\n",
       "      <td>Neutral</td>\n",
       "      <td>high</td>\n",
       "      <td>same</td>\n",
       "      <td>Neutral</td>\n",
       "    </tr>\n",
       "    <tr>\n",
       "      <th>8</th>\n",
       "      <td>1</td>\n",
       "      <td>Asian</td>\n",
       "      <td>1</td>\n",
       "      <td>-1.966</td>\n",
       "      <td>0</td>\n",
       "      <td>tree</td>\n",
       "      <td>tree</td>\n",
       "      <td>Neutral</td>\n",
       "      <td>low</td>\n",
       "      <td>same</td>\n",
       "      <td>Tree</td>\n",
       "    </tr>\n",
       "    <tr>\n",
       "      <th>9</th>\n",
       "      <td>1</td>\n",
       "      <td>Asian</td>\n",
       "      <td>10</td>\n",
       "      <td>2.273</td>\n",
       "      <td>1</td>\n",
       "      <td>male</td>\n",
       "      <td>face</td>\n",
       "      <td>Neutral</td>\n",
       "      <td>high</td>\n",
       "      <td>same</td>\n",
       "      <td>Neutral</td>\n",
       "    </tr>\n",
       "  </tbody>\n",
       "</table>\n",
       "</div>"
      ],
      "text/plain": [
       "   subj_idx   race  outSold      rt  response    stim stimulus     type  sold  \\\n",
       "0         1  Asian        2  10.487         1    tree     tree  Neutral   low   \n",
       "1         1  Asian        9   7.559         1    male     face  Neutral  high   \n",
       "2         1  Asian        4   2.918         1    tree     tree  Neutral   low   \n",
       "3         1  Asian        2   3.144         1    tree     tree  Neutral   low   \n",
       "4         1  Asian        9   3.106         1    male     face  Neutral  high   \n",
       "5         1  Asian        1   1.828         1    male     face  Neutral   low   \n",
       "6         1  Asian        5  -2.010         0  female     face  Neutral   low   \n",
       "7         1  Asian        7  -2.824         0  female     face  Neutral  high   \n",
       "8         1  Asian        1  -1.966         0    tree     tree  Neutral   low   \n",
       "9         1  Asian       10   2.273         1    male     face  Neutral  high   \n",
       "\n",
       "  subj_race com_stim  \n",
       "0      same     Tree  \n",
       "1      same  Neutral  \n",
       "2      same     Tree  \n",
       "3      same     Tree  \n",
       "4      same  Neutral  \n",
       "5      same  Neutral  \n",
       "6      same  Neutral  \n",
       "7      same  Neutral  \n",
       "8      same     Tree  \n",
       "9      same  Neutral  "
      ]
     },
     "execution_count": 10,
     "metadata": {},
     "output_type": "execute_result"
    }
   ],
   "source": [
    "data.head(10)"
   ]
  },
  {
   "cell_type": "code",
   "execution_count": 11,
   "id": "06a6592c",
   "metadata": {},
   "outputs": [
    {
     "data": {
      "text/html": [
       "<div>\n",
       "<style scoped>\n",
       "    .dataframe tbody tr th:only-of-type {\n",
       "        vertical-align: middle;\n",
       "    }\n",
       "\n",
       "    .dataframe tbody tr th {\n",
       "        vertical-align: top;\n",
       "    }\n",
       "\n",
       "    .dataframe thead th {\n",
       "        text-align: right;\n",
       "    }\n",
       "</style>\n",
       "<table border=\"1\" class=\"dataframe\">\n",
       "  <thead>\n",
       "    <tr style=\"text-align: right;\">\n",
       "      <th></th>\n",
       "      <th>subj_idx</th>\n",
       "      <th>race</th>\n",
       "      <th>outSold</th>\n",
       "      <th>rt</th>\n",
       "      <th>response</th>\n",
       "      <th>stim</th>\n",
       "      <th>stimulus</th>\n",
       "      <th>type</th>\n",
       "      <th>sold</th>\n",
       "      <th>subj_race</th>\n",
       "      <th>com_stim</th>\n",
       "    </tr>\n",
       "  </thead>\n",
       "  <tbody>\n",
       "    <tr>\n",
       "      <th>0</th>\n",
       "      <td>1</td>\n",
       "      <td>Asian</td>\n",
       "      <td>2</td>\n",
       "      <td>10.487</td>\n",
       "      <td>1</td>\n",
       "      <td>tree</td>\n",
       "      <td>tree</td>\n",
       "      <td>Neutral</td>\n",
       "      <td>low</td>\n",
       "      <td>same</td>\n",
       "      <td>Tree</td>\n",
       "    </tr>\n",
       "    <tr>\n",
       "      <th>1</th>\n",
       "      <td>1</td>\n",
       "      <td>Asian</td>\n",
       "      <td>9</td>\n",
       "      <td>7.559</td>\n",
       "      <td>1</td>\n",
       "      <td>male</td>\n",
       "      <td>face</td>\n",
       "      <td>Neutral</td>\n",
       "      <td>high</td>\n",
       "      <td>same</td>\n",
       "      <td>Neutral</td>\n",
       "    </tr>\n",
       "    <tr>\n",
       "      <th>2</th>\n",
       "      <td>1</td>\n",
       "      <td>Asian</td>\n",
       "      <td>4</td>\n",
       "      <td>2.918</td>\n",
       "      <td>1</td>\n",
       "      <td>tree</td>\n",
       "      <td>tree</td>\n",
       "      <td>Neutral</td>\n",
       "      <td>low</td>\n",
       "      <td>same</td>\n",
       "      <td>Tree</td>\n",
       "    </tr>\n",
       "    <tr>\n",
       "      <th>3</th>\n",
       "      <td>1</td>\n",
       "      <td>Asian</td>\n",
       "      <td>2</td>\n",
       "      <td>3.144</td>\n",
       "      <td>1</td>\n",
       "      <td>tree</td>\n",
       "      <td>tree</td>\n",
       "      <td>Neutral</td>\n",
       "      <td>low</td>\n",
       "      <td>same</td>\n",
       "      <td>Tree</td>\n",
       "    </tr>\n",
       "    <tr>\n",
       "      <th>4</th>\n",
       "      <td>1</td>\n",
       "      <td>Asian</td>\n",
       "      <td>9</td>\n",
       "      <td>3.106</td>\n",
       "      <td>1</td>\n",
       "      <td>male</td>\n",
       "      <td>face</td>\n",
       "      <td>Neutral</td>\n",
       "      <td>high</td>\n",
       "      <td>same</td>\n",
       "      <td>Neutral</td>\n",
       "    </tr>\n",
       "    <tr>\n",
       "      <th>...</th>\n",
       "      <td>...</td>\n",
       "      <td>...</td>\n",
       "      <td>...</td>\n",
       "      <td>...</td>\n",
       "      <td>...</td>\n",
       "      <td>...</td>\n",
       "      <td>...</td>\n",
       "      <td>...</td>\n",
       "      <td>...</td>\n",
       "      <td>...</td>\n",
       "      <td>...</td>\n",
       "    </tr>\n",
       "    <tr>\n",
       "      <th>49851</th>\n",
       "      <td>779</td>\n",
       "      <td>Caucasian</td>\n",
       "      <td>3</td>\n",
       "      <td>0.567</td>\n",
       "      <td>1</td>\n",
       "      <td>male</td>\n",
       "      <td>face</td>\n",
       "      <td>Pain</td>\n",
       "      <td>low</td>\n",
       "      <td>same</td>\n",
       "      <td>Pain</td>\n",
       "    </tr>\n",
       "    <tr>\n",
       "      <th>49852</th>\n",
       "      <td>779</td>\n",
       "      <td>Caucasian</td>\n",
       "      <td>10</td>\n",
       "      <td>0.709</td>\n",
       "      <td>1</td>\n",
       "      <td>tree</td>\n",
       "      <td>tree</td>\n",
       "      <td>Pain</td>\n",
       "      <td>high</td>\n",
       "      <td>same</td>\n",
       "      <td>Tree</td>\n",
       "    </tr>\n",
       "    <tr>\n",
       "      <th>49853</th>\n",
       "      <td>779</td>\n",
       "      <td>Caucasian</td>\n",
       "      <td>7</td>\n",
       "      <td>0.703</td>\n",
       "      <td>1</td>\n",
       "      <td>male</td>\n",
       "      <td>face</td>\n",
       "      <td>Pain</td>\n",
       "      <td>high</td>\n",
       "      <td>same</td>\n",
       "      <td>Pain</td>\n",
       "    </tr>\n",
       "    <tr>\n",
       "      <th>49854</th>\n",
       "      <td>779</td>\n",
       "      <td>Caucasian</td>\n",
       "      <td>5</td>\n",
       "      <td>0.661</td>\n",
       "      <td>1</td>\n",
       "      <td>tree</td>\n",
       "      <td>tree</td>\n",
       "      <td>Pain</td>\n",
       "      <td>low</td>\n",
       "      <td>same</td>\n",
       "      <td>Tree</td>\n",
       "    </tr>\n",
       "    <tr>\n",
       "      <th>49855</th>\n",
       "      <td>779</td>\n",
       "      <td>Caucasian</td>\n",
       "      <td>9</td>\n",
       "      <td>0.699</td>\n",
       "      <td>1</td>\n",
       "      <td>male</td>\n",
       "      <td>face</td>\n",
       "      <td>Pain</td>\n",
       "      <td>high</td>\n",
       "      <td>same</td>\n",
       "      <td>Pain</td>\n",
       "    </tr>\n",
       "  </tbody>\n",
       "</table>\n",
       "<p>49856 rows × 11 columns</p>\n",
       "</div>"
      ],
      "text/plain": [
       "       subj_idx       race  outSold      rt  response  stim stimulus     type  \\\n",
       "0             1      Asian        2  10.487         1  tree     tree  Neutral   \n",
       "1             1      Asian        9   7.559         1  male     face  Neutral   \n",
       "2             1      Asian        4   2.918         1  tree     tree  Neutral   \n",
       "3             1      Asian        2   3.144         1  tree     tree  Neutral   \n",
       "4             1      Asian        9   3.106         1  male     face  Neutral   \n",
       "...         ...        ...      ...     ...       ...   ...      ...      ...   \n",
       "49851       779  Caucasian        3   0.567         1  male     face     Pain   \n",
       "49852       779  Caucasian       10   0.709         1  tree     tree     Pain   \n",
       "49853       779  Caucasian        7   0.703         1  male     face     Pain   \n",
       "49854       779  Caucasian        5   0.661         1  tree     tree     Pain   \n",
       "49855       779  Caucasian        9   0.699         1  male     face     Pain   \n",
       "\n",
       "       sold subj_race com_stim  \n",
       "0       low      same     Tree  \n",
       "1      high      same  Neutral  \n",
       "2       low      same     Tree  \n",
       "3       low      same     Tree  \n",
       "4      high      same  Neutral  \n",
       "...     ...       ...      ...  \n",
       "49851   low      same     Pain  \n",
       "49852  high      same     Tree  \n",
       "49853  high      same     Pain  \n",
       "49854   low      same     Tree  \n",
       "49855  high      same     Pain  \n",
       "\n",
       "[49856 rows x 11 columns]"
      ]
     },
     "execution_count": 11,
     "metadata": {},
     "output_type": "execute_result"
    }
   ],
   "source": [
    "data"
   ]
  },
  {
   "cell_type": "code",
   "execution_count": 12,
   "id": "8df91436",
   "metadata": {},
   "outputs": [
    {
     "name": "stderr",
     "output_type": "stream",
     "text": [
      "/opt/conda/lib/python3.8/site-packages/scipy/optimize/optimize.py:2215: RuntimeWarning: invalid value encountered in double_scalars\n",
      "  tmp2 = (x - v) * (fx - fw)\n"
     ]
    },
    {
     "name": "stdout",
     "output_type": "stream",
     "text": [
      " [-------          19%                  ] 3980 of 20000 complete in 18488.9 sec"
     ]
    },
    {
     "name": "stderr",
     "output_type": "stream",
     "text": [
      "IOPub message rate exceeded.\n",
      "The notebook server will temporarily stop sending output\n",
      "to the client in order to avoid crashing it.\n",
      "To change this limit, set the config variable\n",
      "`--NotebookApp.iopub_msg_rate_limit`.\n",
      "\n",
      "Current values:\n",
      "NotebookApp.iopub_msg_rate_limit=1000.0 (msgs/sec)\n",
      "NotebookApp.rate_limit_window=3.0 (secs)\n",
      "\n"
     ]
    },
    {
     "name": "stdout",
     "output_type": "stream",
     "text": [
      " [-----------------59%--                ] 11843 of 20000 complete in 50887.4 sec"
     ]
    },
    {
     "name": "stderr",
     "output_type": "stream",
     "text": [
      "IOPub message rate exceeded.\n",
      "The notebook server will temporarily stop sending output\n",
      "to the client in order to avoid crashing it.\n",
      "To change this limit, set the config variable\n",
      "`--NotebookApp.iopub_msg_rate_limit`.\n",
      "\n",
      "Current values:\n",
      "NotebookApp.iopub_msg_rate_limit=1000.0 (msgs/sec)\n",
      "NotebookApp.rate_limit_window=3.0 (secs)\n",
      "\n"
     ]
    },
    {
     "name": "stdout",
     "output_type": "stream",
     "text": [
      " [-----------------100%-----------------] 20001 of 20000 complete in 94674.3 sec"
     ]
    }
   ],
   "source": [
    "m = hddm.HDDM(data, depends_on={'v': ['com_stim','subj_race'], 'a': ['com_stim','subj_race'], 'z': ['com_stim','subj_race']}, bias = True, p_outlier=.05)\n",
    "m.find_starting_values()\n",
    "m.sample(20000, burn=1000, dbname='db_combine_final_WithTree', db='pickle')\n",
    "m.save('model_combine_final_WithTree')"
   ]
  },
  {
   "cell_type": "code",
   "execution_count": 13,
   "id": "c219fbc9",
   "metadata": {},
   "outputs": [
    {
     "data": {
      "text/plain": [
       "144242.08369606303"
      ]
     },
     "execution_count": 13,
     "metadata": {},
     "output_type": "execute_result"
    }
   ],
   "source": [
    "m.dic"
   ]
  },
  {
   "cell_type": "code",
   "execution_count": 16,
   "id": "da26be04",
   "metadata": {},
   "outputs": [],
   "source": [
    "v_same_neutral, v_same_pain, v_same_tree = m.nodes_db.node[['v(Neutral.same)', 'v(Pain.same)','v(Tree.same)']]\n",
    "v_diff_neutral, v_diff_pain, v_diff_tree = m.nodes_db.node[['v(Neutral.diff)', 'v(Pain.diff)','v(Tree.diff)']]\n",
    "a_same_neutral, a_same_pain, a_same_tree = m.nodes_db.node[['a(Neutral.same)', 'a(Pain.same)','a(Tree.same)']]\n",
    "a_diff_neutral, a_diff_pain, a_diff_tree = m.nodes_db.node[['a(Neutral.diff)', 'a(Pain.diff)','a(Tree.diff)']]\n",
    "z_same_neutral, z_same_pain, z_same_tree = m.nodes_db.node[['z(Neutral.same)', 'z(Pain.same)','z(Tree.same)']]\n",
    "z_diff_neutral, z_diff_pain, z_diff_tree = m.nodes_db.node[['z(Neutral.diff)', 'z(Pain.diff)','z(Tree.diff)']]"
   ]
  },
  {
   "cell_type": "code",
   "execution_count": 20,
   "id": "819a5713",
   "metadata": {},
   "outputs": [
    {
     "name": "stdout",
     "output_type": "stream",
     "text": [
      "0.2849473684210526\n"
     ]
    },
    {
     "data": {
      "image/png": "[encoded data removed]",
      "text/plain": [
       "<Figure size 432x288 with 1 Axes>"
      ]
     },
     "metadata": {
      "needs_background": "light"
     },
     "output_type": "display_data"
    }
   ],
   "source": [
    "hddm.analyze.plot_posterior_nodes([a_same_neutral, a_diff_neutral],bins=20)\n",
    "plt.xlabel('boundary separation')\n",
    "plt.ylabel('Posterior probability')\n",
    "print((a_same_neutral.trace()<a_diff_neutral.trace()).mean())"
   ]
  },
  {
   "cell_type": "code",
   "execution_count": 21,
   "id": "8293ec2e",
   "metadata": {},
   "outputs": [
    {
     "name": "stdout",
     "output_type": "stream",
     "text": [
      "0.028368421052631577\n"
     ]
    },
    {
     "data": {
      "image/png": "[encoded data removed]",
      "text/plain": [
       "<Figure size 432x288 with 1 Axes>"
      ]
     },
     "metadata": {
      "needs_background": "light"
     },
     "output_type": "display_data"
    }
   ],
   "source": [
    "hddm.analyze.plot_posterior_nodes([a_same_pain, a_diff_pain],bins=20)\n",
    "plt.xlabel('boundary separation')\n",
    "plt.ylabel('Posterior probability')\n",
    "print((a_same_pain.trace()<a_diff_pain.trace()).mean())"
   ]
  },
  {
   "cell_type": "code",
   "execution_count": 22,
   "id": "886e4783",
   "metadata": {},
   "outputs": [
    {
     "name": "stdout",
     "output_type": "stream",
     "text": [
      "0.08563157894736842\n"
     ]
    },
    {
     "data": {
      "image/png": "[encoded data removed]",
      "text/plain": [
       "<Figure size 432x288 with 1 Axes>"
      ]
     },
     "metadata": {
      "needs_background": "light"
     },
     "output_type": "display_data"
    }
   ],
   "source": [
    "hddm.analyze.plot_posterior_nodes([a_same_tree, a_diff_tree],bins=20)\n",
    "plt.xlabel('boundary separation')\n",
    "plt.ylabel('Posterior probability')\n",
    "print((a_same_tree.trace()<a_diff_tree.trace()).mean())"
   ]
  }
 ],
 "metadata": {
  "kernelspec": {
   "display_name": "Python 3",
   "language": "python",
   "name": "python3"
  },
  "language_info": {
   "codemirror_mode": {
    "name": "ipython",
    "version": 3
   },
   "file_extension": ".py",
   "mimetype": "text/x-python",
   "name": "python",
   "nbconvert_exporter": "python",
   "pygments_lexer": "ipython3",
   "version": "3.8.8"
  }
 },
 "nbformat": 4,
 "nbformat_minor": 5
}
